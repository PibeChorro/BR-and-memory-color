{
 "cells": [
  {
   "cell_type": "markdown",
   "id": "0ae2e6da-a564-441f-ab4c-df029268c4d8",
   "metadata": {},
   "source": [
    "# Playground\n",
    "Looking at some pilot data from the BR experiment"
   ]
  },
  {
   "cell_type": "code",
   "execution_count": 12,
   "id": "f2066955-c30d-41ab-a777-19a2e6d63f9a",
   "metadata": {},
   "outputs": [],
   "source": [
    "# important libraries\n",
    "\n",
    "# use the os\n",
    "import os\n",
    "import glob\n",
    "# math and data structure\n",
    "import numpy as np\n",
    "import pandas as pd\n",
    "# plotting\n",
    "import matplotlib.pyplot as plt\n",
    "import seaborn as sns\n",
    "\n",
    "import pingouin as pg"
   ]
  },
  {
   "cell_type": "markdown",
   "id": "20a5780e-45a0-4275-a368-ba8d3cfa0cc5",
   "metadata": {},
   "source": [
    "### Directories"
   ]
  },
  {
   "cell_type": "code",
   "execution_count": 13,
   "id": "7e685f11-f09d-4508-a859-f1f52ae5cd6e",
   "metadata": {},
   "outputs": [],
   "source": [
    "root_dir = os.path.join('..','..')\n",
    "data_dir = os.path.join(root_dir, 'rawdata')\n",
    "results_dir = os.path.join(root_dir, 'derivatives')\n",
    "if not os.path.exists(results_dir):\n",
    "    os.mkdir(results_dir)"
   ]
  },
  {
   "cell_type": "markdown",
   "id": "090eeed0-a0dc-42ab-847b-47a337e31f2b",
   "metadata": {},
   "source": [
    "### Subjects"
   ]
  },
  {
   "cell_type": "code",
   "execution_count": 14,
   "id": "082887bb-4038-43cb-a763-753db8b12c06",
   "metadata": {},
   "outputs": [],
   "source": [
    "# get all subjects\n",
    "subjects_fullpath = glob.glob(os.path.join(data_dir, 'sub-*'))\n",
    "\n",
    "# example subject\n",
    "sub = subjects_fullpath[1]"
   ]
  },
  {
   "cell_type": "markdown",
   "id": "030b7d22-ab1d-4d09-bcc6-1382a4dca3fd",
   "metadata": {},
   "source": [
    "#### Concatenate runs"
   ]
  },
  {
   "cell_type": "code",
   "execution_count": 15,
   "id": "2d8ea478-a47c-4f87-80d5-84947cc032a5",
   "metadata": {},
   "outputs": [],
   "source": [
    "runs = glob.glob(os.path.join(sub,'*.csv'))\n",
    "runs.sort()"
   ]
  },
  {
   "cell_type": "code",
   "execution_count": 16,
   "id": "80a4a72c-076f-42fc-afe9-2048f1d8ea54",
   "metadata": {},
   "outputs": [],
   "source": [
    "sub_df = pd.DataFrame()\n",
    "\n",
    "for r,run in enumerate(runs):\n",
    "    # read in the csv from the run\n",
    "    curr_run = pd.read_csv(run)\n",
    "    # add a column with the run number\n",
    "    curr_run['run'] = r+1\n",
    "    \n",
    "    # concatenate the run into one big dataframe\n",
    "    sub_df = pd.concat([sub_df, curr_run],ignore_index=True)\n",
    "    \n",
    "# add the color as condition\n",
    "stim_colors = [stim.split('_')[0] for stim in sub_df.stimulus]\n",
    "stim_identities = [stim.split('_')[1].split('.')[0] for stim in sub_df.stimulus]\n",
    "sub_df['color'] = stim_colors\n",
    "sub_df['object'] = stim_identities"
   ]
  },
  {
   "cell_type": "markdown",
   "id": "051f07ac-06a1-4f70-a2f6-86f6b689677e",
   "metadata": {},
   "source": [
    "### Plotting"
   ]
  },
  {
   "cell_type": "code",
   "execution_count": 17,
   "id": "7313e709-cbb9-4022-86f4-fd2ef7735e66",
   "metadata": {},
   "outputs": [
    {
     "data": {
      "text/html": [
       "<div>\n",
       "<style scoped>\n",
       "    .dataframe tbody tr th:only-of-type {\n",
       "        vertical-align: middle;\n",
       "    }\n",
       "\n",
       "    .dataframe tbody tr th {\n",
       "        vertical-align: top;\n",
       "    }\n",
       "\n",
       "    .dataframe thead th {\n",
       "        text-align: right;\n",
       "    }\n",
       "</style>\n",
       "<table border=\"1\" class=\"dataframe\">\n",
       "  <thead>\n",
       "    <tr style=\"text-align: right;\">\n",
       "      <th></th>\n",
       "      <th>percepts</th>\n",
       "      <th>color</th>\n",
       "      <th>run</th>\n",
       "      <th>durations</th>\n",
       "    </tr>\n",
       "  </thead>\n",
       "  <tbody>\n",
       "    <tr>\n",
       "      <th>0</th>\n",
       "      <td>false_color</td>\n",
       "      <td>blue</td>\n",
       "      <td>1</td>\n",
       "      <td>30.441947</td>\n",
       "    </tr>\n",
       "    <tr>\n",
       "      <th>1</th>\n",
       "      <td>mixed</td>\n",
       "      <td>blue</td>\n",
       "      <td>1</td>\n",
       "      <td>20.789301</td>\n",
       "    </tr>\n",
       "    <tr>\n",
       "      <th>2</th>\n",
       "      <td>true_color</td>\n",
       "      <td>blue</td>\n",
       "      <td>1</td>\n",
       "      <td>12.936272</td>\n",
       "    </tr>\n",
       "    <tr>\n",
       "      <th>3</th>\n",
       "      <td>false_color</td>\n",
       "      <td>blue</td>\n",
       "      <td>2</td>\n",
       "      <td>44.124046</td>\n",
       "    </tr>\n",
       "    <tr>\n",
       "      <th>4</th>\n",
       "      <td>mixed</td>\n",
       "      <td>blue</td>\n",
       "      <td>2</td>\n",
       "      <td>30.517134</td>\n",
       "    </tr>\n",
       "    <tr>\n",
       "      <th>...</th>\n",
       "      <td>...</td>\n",
       "      <td>...</td>\n",
       "      <td>...</td>\n",
       "      <td>...</td>\n",
       "    </tr>\n",
       "    <tr>\n",
       "      <th>82</th>\n",
       "      <td>mixed</td>\n",
       "      <td>yellow</td>\n",
       "      <td>5</td>\n",
       "      <td>27.381973</td>\n",
       "    </tr>\n",
       "    <tr>\n",
       "      <th>83</th>\n",
       "      <td>true_color</td>\n",
       "      <td>yellow</td>\n",
       "      <td>5</td>\n",
       "      <td>15.896656</td>\n",
       "    </tr>\n",
       "    <tr>\n",
       "      <th>84</th>\n",
       "      <td>false_color</td>\n",
       "      <td>yellow</td>\n",
       "      <td>6</td>\n",
       "      <td>NaN</td>\n",
       "    </tr>\n",
       "    <tr>\n",
       "      <th>85</th>\n",
       "      <td>mixed</td>\n",
       "      <td>yellow</td>\n",
       "      <td>6</td>\n",
       "      <td>37.870460</td>\n",
       "    </tr>\n",
       "    <tr>\n",
       "      <th>86</th>\n",
       "      <td>true_color</td>\n",
       "      <td>yellow</td>\n",
       "      <td>6</td>\n",
       "      <td>30.594322</td>\n",
       "    </tr>\n",
       "  </tbody>\n",
       "</table>\n",
       "<p>87 rows × 4 columns</p>\n",
       "</div>"
      ],
      "text/plain": [
       "       percepts   color  run  durations\n",
       "0   false_color    blue    1  30.441947\n",
       "1         mixed    blue    1  20.789301\n",
       "2    true_color    blue    1  12.936272\n",
       "3   false_color    blue    2  44.124046\n",
       "4         mixed    blue    2  30.517134\n",
       "..          ...     ...  ...        ...\n",
       "82        mixed  yellow    5  27.381973\n",
       "83   true_color  yellow    5  15.896656\n",
       "84  false_color  yellow    6        NaN\n",
       "85        mixed  yellow    6  37.870460\n",
       "86   true_color  yellow    6  30.594322\n",
       "\n",
       "[87 rows x 4 columns]"
      ]
     },
     "execution_count": 17,
     "metadata": {},
     "output_type": "execute_result"
    }
   ],
   "source": [
    "df_piv = sub_df.pivot_table(index='percepts',\n",
    "                            columns=['color','run'],\n",
    "                            values='durations',\n",
    "                            aggfunc='sum')\n",
    "\n",
    "agg_df = df_piv.melt(ignore_index=False, value_name='durations').reset_index()\n",
    "agg_df"
   ]
  },
  {
   "cell_type": "code",
   "execution_count": 18,
   "id": "6ab412d8-83bd-4a97-b499-f2b25182e783",
   "metadata": {},
   "outputs": [
    {
     "data": {
      "image/png": "[encoded data removed]",
      "text/plain": [
       "<Figure size 640x480 with 1 Axes>"
      ]
     },
     "metadata": {},
     "output_type": "display_data"
    }
   ],
   "source": [
    "fig = plt.figure()\n",
    "sns.barplot(data=agg_df, x='percepts',y='durations',order=['true_color','mixed','false_color'])\n",
    "fig.savefig('test.png')"
   ]
  },
  {
   "cell_type": "code",
   "execution_count": 19,
   "id": "c72257e9-35e6-458e-9dba-106218329945",
   "metadata": {},
   "outputs": [
    {
     "data": {
      "image/png": "[encoded data removed]",
      "text/plain": [
       "<Figure size 640x480 with 5 Axes>"
      ]
     },
     "metadata": {},
     "output_type": "display_data"
    }
   ],
   "source": [
    "fig = plt.figure()\n",
    "inverse_colors = ['olive','violet','deepskyblue','cornflowerblue','cyan']\n",
    "for c, color in enumerate(np.unique(agg_df.color)):\n",
    "    ax = plt.subplot(5,1,c+1)\n",
    "    curr_data = agg_df[agg_df.color==color]\n",
    "    sns.barplot(data=curr_data, \n",
    "                x='percepts',\n",
    "                y='durations',\n",
    "                order=['true_color','mixed','false_color'],\n",
    "                palette=[color,'grey',inverse_colors[c]],\n",
    "                ax=ax)\n",
    "fig.savefig('test2.png')"
   ]
  },
  {
   "cell_type": "code",
   "execution_count": 20,
   "id": "788801ce-86e6-4210-8875-e2d79bc1e5e2",
   "metadata": {},
   "outputs": [
    {
     "data": {
      "text/plain": [
       "array([  0,  23,  70, 103, 142, 177, 196, 207, 230, 245, 330, 355, 372,\n",
       "       397, 424, 435, 486, 489, 506, 545, 560, 589, 612, 639, 646, 663,\n",
       "       686, 699, 712])"
      ]
     },
     "execution_count": 20,
     "metadata": {},
     "output_type": "execute_result"
    }
   ],
   "source": [
    "mask = sub_df.object!=sub_df.object.shift(1)\n",
    "indices = np.where(mask)[0]\n",
    "indices"
   ]
  },
  {
   "cell_type": "code",
   "execution_count": 22,
   "id": "6e677e83-377c-457a-9d4f-5541eb5b5a45",
   "metadata": {},
   "outputs": [
    {
     "data": {
      "text/plain": [
       "29"
      ]
     },
     "execution_count": 22,
     "metadata": {},
     "output_type": "execute_result"
    }
   ],
   "source": [
    "len(sub_df.percepts.iloc[indices])"
   ]
  }
 ],
 "metadata": {
  "kernelspec": {
   "display_name": "Python 3 (ipykernel)",
   "language": "python",
   "name": "python3"
  },
  "language_info": {
   "codemirror_mode": {
    "name": "ipython",
    "version": 3
   },
   "file_extension": ".py",
   "mimetype": "text/x-python",
   "name": "python",
   "nbconvert_exporter": "python",
   "pygments_lexer": "ipython3",
   "version": "3.9.13"
  }
 },
 "nbformat": 4,
 "nbformat_minor": 5
}
